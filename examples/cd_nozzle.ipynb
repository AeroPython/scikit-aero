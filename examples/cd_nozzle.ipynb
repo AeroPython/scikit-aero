{
 "metadata": {
  "name": "Convergent-divergent nozzle"
 },
 "nbformat": 3,
 "nbformat_minor": 0,
 "worksheets": [
  {
   "cells": [
    {
     "cell_type": "heading",
     "level": 1,
     "metadata": {},
     "source": [
      "Convergent-divergent nozzle"
     ]
    },
    {
     "cell_type": "markdown",
     "metadata": {},
     "source": [
      "**Statement**: Determine the steady flow within the convergent-divergent nozzle, geometrically defined by\n",
      "\n",
      "$$A(x) = \\begin{cases}\n",
      "2 x^3 - 3 x^2 + 2 & 0 \\leq x \\le 1 \\\\\\\\\n",
      "-\\frac{3}{8} x^3 + \\frac{9}{4} x^2 - \\frac{27}{8} x + \\frac{5}{2} & 1 \\leq x \\le 3\n",
      "\\end{cases}$$\n",
      "\n",
      "for the operating condition in which the nozzle discharges in the atmosphere and is supplied with a stagnation pressure P_0 = 2 atm and a stagnation temperature T0 = 300 \u00b0C."
     ]
    },
    {
     "cell_type": "heading",
     "level": 2,
     "metadata": {},
     "source": [
      "Algorithm"
     ]
    },
    {
     "cell_type": "markdown",
     "metadata": {},
     "source": [
      "Temptative algorithm: given nozzle geometry $A(x)$, ambient pressure $p_A$ and inlet stagnation conditions $p_0$ and $T_0$,\n",
      "\n",
      "1. We are discharging to the atmosphere, therefore the back pressure $p_B$ is the given ambient pressure.\n",
      "2. Supose chocked flow, hence minimal area $A_t$ is critical area $A^*$.\n",
      "3. Compute $M_e$ both subsonic and supersonic, using the Mach number-area ratio relation.\n",
      "3. Compute subsonic $p_{e3}$ and supersonic $p_{e6}$ pressure at the exit using isentropic Mach number relations and inlet stagnation pressure.\n",
      "4. Compare $p_B$ with $p_{e3}$ and $p_{e6}$:\n",
      "    5. If $p_{e3} \\lt p_B$, fully subsonic flow, no sonic conditions at the throat.\n",
      "    6. If $p_B \\leq p_{e3}$, chocked flow.\n",
      "7. ..."
     ]
    },
    {
     "cell_type": "heading",
     "level": 2,
     "metadata": {},
     "source": [
      "Computations"
     ]
    },
    {
     "cell_type": "code",
     "collapsed": false,
     "input": [
      "%pylab inline\n",
      "\n",
      "# Import necessary packages\n",
      "import numpy as np\n",
      "import scipy as sp\n",
      "\n",
      "from scipy import constants, optimize\n",
      "\n",
      "import matplotlib.pyplot as plt"
     ],
     "language": "python",
     "metadata": {},
     "outputs": [
      {
       "output_type": "stream",
       "stream": "stdout",
       "text": [
        "\n",
        "Welcome to pylab, a matplotlib-based Python environment [backend: module://IPython.zmq.pylab.backend_inline].\n",
        "For more information, type 'help(pylab)'.\n"
       ]
      }
     ],
     "prompt_number": 1
    },
    {
     "cell_type": "code",
     "collapsed": false,
     "input": [
      "from skaero.gasdynamics import isentropic, shocks"
     ],
     "language": "python",
     "metadata": {},
     "outputs": [],
     "prompt_number": 2
    },
    {
     "cell_type": "code",
     "collapsed": false,
     "input": [
      "# 0. Given conditions\n",
      "# Taken from exercises 2 and 18\n",
      "\n",
      "# Parameters\n",
      "gamma = g = 1.4\n",
      "R = 287.04  # J\u2009/ (kg \u00b7 K)\n",
      "p_amb = 1 * sp.constants.atm  # Pa\n",
      "\n",
      "# Inlet conditions\n",
      "p_0 = 2.0 * sp.constants.atm  # Pa\n",
      "T_0 = sp.constants.C2K(300.0)  # K\n",
      "\n",
      "# Longitudinal axis of the nozzle\n",
      "x = np.linspace(0, 3, 151)"
     ],
     "language": "python",
     "metadata": {},
     "outputs": [],
     "prompt_number": 3
    },
    {
     "cell_type": "code",
     "collapsed": false,
     "input": [
      "# Geometry of the nozzle\n",
      "def A(x):\n",
      "    \"\"\"Cross sectional area of the nozzle, in m^2.\n",
      "\n",
      "    Notice that this function also contains a couple of workarounds\n",
      "    to circunvent some odd behaviour of numpy.piecewise.\n",
      "    \"\"\"\n",
      "    def A_1(x):\n",
      "        return (2.0 * x ** 3 - 3.0 * x ** 2 + 2.0) / 100\n",
      "\n",
      "    def A_2(x):\n",
      "        return (-3.0 * x ** 3 / 8.0 + 9.0 * x ** 2 / 4.0 - 27.0 * x / 8.0 + 5.0 / 2.0) / 100\n",
      "\n",
      "    x = np.asarray(x, dtype=float)\n",
      "    # For avoiding np.piecewise bug\n",
      "    if not x.shape:\n",
      "        x = np.asarray([x])\n",
      "\n",
      "    result = np.piecewise(x, [(0.0 <= x) & (x < 1.0), (1.0 <= x) & (x <= 3.0)], [A_1, A_2])\n",
      "    if len(result) == 1:\n",
      "        result = result[0]\n",
      "\n",
      "    return result\n",
      "\n",
      "radius = np.sqrt(A(x) / np.pi) * 10  # dm\n",
      "\n",
      "# Plot nozzle shape\n",
      "nozzle = plt.fill_between(x, radius, -radius, facecolor=\"#cccccc\")\n",
      "plt.xlim(0, 3)\n",
      "plt.title(\"Nozzle\")\n",
      "plt.xlabel(\"x (m)\")\n",
      "plt.ylabel(\"Radius (dm)\")"
     ],
     "language": "python",
     "metadata": {},
     "outputs": [
      {
       "output_type": "pyout",
       "prompt_number": 4,
       "text": [
        "<matplotlib.text.Text at 0x7fe7d80ade10>"
       ]
      },
      {
       "output_type": "display_data",
       "png": "[encoded data removed]"
      }
     ],
     "prompt_number": 4
    },
    {
     "cell_type": "code",
     "collapsed": false,
     "input": [
      "# 1. Back pressure pB is ambient pressure\n",
      "p_B = p_amb"
     ],
     "language": "python",
     "metadata": {},
     "outputs": [],
     "prompt_number": 5
    },
    {
     "cell_type": "code",
     "collapsed": false,
     "input": [
      "# 2. Find minimum area in domain\n",
      "A_e = A(x[-1])  # m^2\n",
      "A_c = np.min(A(x))  # m^2"
     ],
     "language": "python",
     "metadata": {},
     "outputs": [],
     "prompt_number": 6
    },
    {
     "cell_type": "code",
     "collapsed": false,
     "input": [
      "# 3. Compute subsonic and supersonic Mach number at the exit\n",
      "fl = isentropic.IsentropicFlow(gamma=g)\n",
      "M_e_sub, M_e_sup = isentropic.mach_from_area_ratio(fl, A_e / A_c)\n",
      "\n",
      "print(A_e / A_c)\n",
      "print(M_e_sub, M_e_sup)"
     ],
     "language": "python",
     "metadata": {},
     "outputs": [
      {
       "output_type": "stream",
       "stream": "stdout",
       "text": [
        "2.5\n",
        "0.23954284305818874 2.44276484552\n"
       ]
      },
      {
       "output_type": "stream",
       "stream": "stderr",
       "text": [
        "/home/juanlu/.local/lib/python3.3/site-packages/skaero/gasdynamics/isentropic.py:150: RuntimeWarning: divide by zero encountered in double_scalars\n",
        "  ((self.gamma + 1) / (2 * (self.gamma - 1))) / M\n"
       ]
      }
     ],
     "prompt_number": 7
    },
    {
     "cell_type": "code",
     "collapsed": false,
     "input": [
      "# 4. Compute pressure limit values\n",
      "from IPython.core.display import Latex\n",
      "\n",
      "Latex(r\"\\[\\frac{p_0}{p} = (1 + \\frac{\\gamma - 1}{2} M^2)^{\\gamma / (\\gamma - 1)}\\]\")"
     ],
     "language": "python",
     "metadata": {},
     "outputs": [
      {
       "latex": [
        "\\[\\frac{p_0}{p} = (1 + \\frac{\\gamma - 1}{2} M^2)^{\\gamma / (\\gamma - 1)}\\]"
       ],
       "output_type": "pyout",
       "prompt_number": 8,
       "text": [
        "<IPython.core.display.Latex at 0x7fe7d808b390>"
       ]
      }
     ],
     "prompt_number": 8
    },
    {
     "cell_type": "code",
     "collapsed": false,
     "input": [
      "# Isentropic limit subsonic and supersonic solutions\n",
      "p_e3 = p_0 * fl.p_p0(M_e_sub)\n",
      "p_e6 = p_0  * fl.p_p0(M_e_sup)\n",
      "\n",
      "print(\"Exit pressure of the limit isentropic solutions\")\n",
      "print(p_e3, p_e6)"
     ],
     "language": "python",
     "metadata": {},
     "outputs": [
      {
       "output_type": "stream",
       "stream": "stdout",
       "text": [
        "Exit pressure of the limit isentropic solutions\n",
        "194716.088639 12966.4263803\n"
       ]
      }
     ],
     "prompt_number": 9
    },
    {
     "cell_type": "code",
     "collapsed": false,
     "input": [
      "# Normal shock at the exit of the nozzle\n",
      "# ..."
     ],
     "language": "python",
     "metadata": {},
     "outputs": [],
     "prompt_number": 10
    },
    {
     "cell_type": "code",
     "collapsed": false,
     "input": [
      "# Isentropic pressure solutions\n",
      "M_isen = np.empty((len(x), 2))\n",
      "for i in range(len(x)):\n",
      "    M_isen[i] = isentropic.mach_from_area_ratio(fl, A(x[i]) / A_c)\n",
      "\n",
      "# Subsonic isentropic limit solution\n",
      "M_isen_sub = M_isen[np.arange(len(x)), np.zeros(len(x), dtype=int)]\n",
      "p_isen_sub = fl.p_p0(M_isen_sub)\n",
      "\n",
      "# Supersonic isentropic solution\n",
      "i_c = np.argmin(A(x))\n",
      "mask = np.zeros(len(x), dtype=int)\n",
      "mask[i_c:] = 1\n",
      "M_isen_sup = M_isen[np.arange(len(x)), mask]\n",
      "p_isen_sup = fl.p_p0(M_isen_sup)"
     ],
     "language": "python",
     "metadata": {},
     "outputs": [],
     "prompt_number": 11
    },
    {
     "cell_type": "code",
     "collapsed": false,
     "input": [
      "# 5. Discriminate flow\n",
      "# TODO: I need to compute also the shock inside nozzle, overexpanded, properly expanded\n",
      "# and underexpanded cases.\n",
      "if p_B > p_e3:\n",
      "    print(\"Fully subsonic flow\")\n",
      "elif p_B <= p_e3:\n",
      "    print(\"Chocked flow\")"
     ],
     "language": "python",
     "metadata": {},
     "outputs": [
      {
       "output_type": "stream",
       "stream": "stdout",
       "text": [
        "Chocked flow\n"
       ]
      }
     ],
     "prompt_number": 12
    },
    {
     "cell_type": "code",
     "collapsed": false,
     "input": [
      "# Given normal shock location, return pressure\n",
      "def pe_p0_from_shock_location(A_loc_ratio, A_e_ratio):\n",
      "    # 1. Compute M_1\n",
      "    M_1 = isentropic.mach_from_area_ratio(fl, A_loc_ratio)[1]\n",
      "    # 2. Compute M_2\n",
      "    ns = shocks.NormalShock(M_1, gamma)\n",
      "    M_2 = ns.M_2\n",
      "    # 3. Compute A_2 over A_2^*\n",
      "    a2_a2c = fl.A_Astar(M_2)\n",
      "    # 4. Compute A_e / A_2^*\n",
      "    ae_a2c = A_e_ratio / A_loc_ratio * a2_a2c\n",
      "    # 5. Compute M_e\n",
      "    M_e = isentropic.mach_from_area_ratio(fl, ae_a2c)[0]\n",
      "    # 6. Compute p_e over p_0e\n",
      "    p0e_pe = 1 / fl.p_p0(M_e)\n",
      "    # 7. Compute p_02 over p_2\n",
      "    p02_p2 = 1 / fl.p_p0(M_2)\n",
      "    # 8. Compute p_2 over p_1\n",
      "    p2_p1 = ns.p2_p1\n",
      "    # 9. Compute p_01 over p_1\n",
      "    p01_p1 = 1 / fl.p_p0(M_1)\n",
      "    # 10. Compute p_02 over p_01\n",
      "    p02_p01 = p02_p2 * p2_p1 * 1 / p01_p1\n",
      "    # 11. Compute p_e over p_0\n",
      "    pe_p0 = 1 / p0e_pe * p02_p01\n",
      "    return pe_p0\n",
      "\n",
      "\n",
      "#print(p_e_from_shock_location(2.0, 3.0))  # Anderson example 5.6, it works\n",
      "def F(A_loc_ratio, A_e_ratio, pe_p0):\n",
      "    return pe_p0_from_shock_location(A_loc_ratio, A_e_ratio) - pe_p0\n",
      "\n",
      "#print(sp.optimize.brentq(F, 1.0, 3.0, args=(3.0, 0.5)))  # Anderson example 5.7, works\n",
      "#print(F(2.3397, 3.0, 0.5))  # 5.84275393312e-06\n",
      "\n",
      "A_shock = sp.optimize.brentq(F, 1.0, 3.0, args=(A_e / A_c, p_B / p_0))\n",
      "print(\"Location of the normal shock\")\n",
      "print(A_shock * A_c)"
     ],
     "language": "python",
     "metadata": {},
     "outputs": [
      {
       "output_type": "stream",
       "stream": "stdout",
       "text": [
        "Location of the normal shock\n",
        "0.0222720756212\n"
       ]
      }
     ],
     "prompt_number": 13
    },
    {
     "cell_type": "code",
     "collapsed": false,
     "input": [
      "# Find corresponding index\n",
      "def find_nearest_index(a, a0):\n",
      "    \"\"\"Element in nd array a closest to the scalar value a0.\n",
      "\n",
      "    See http://stackoverflow.com/a/10465997/554319\n",
      "\n",
      "    \"\"\"\n",
      "    idx = np.abs(a - a0).argmin()\n",
      "    return idx\n",
      "\n",
      "\n",
      "Area = A(x)\n",
      "i_s = find_nearest_index(Area, A_shock * A_c)\n",
      "x[i_s]"
     ],
     "language": "python",
     "metadata": {},
     "outputs": [
      {
       "output_type": "pyout",
       "prompt_number": 14,
       "text": [
        "2.46"
       ]
      }
     ],
     "prompt_number": 14
    },
    {
     "cell_type": "code",
     "collapsed": false,
     "input": [
      "# Compute pressure along nozzle axis\n",
      "p_ratio = np.empty_like(x)\n",
      "\n",
      "# Isentropic portion\n",
      "p_ratio[:i_s] = p_isen_sup[:i_s]\n",
      "\n",
      "# Portion behind the shock\n",
      "# 1. Compute M_1\n",
      "M_1 = isentropic.mach_from_area_ratio(fl, A_shock)[1]\n",
      "# 2. Compute M_2\n",
      "ns = shocks.NormalShock(M_1, gamma)\n",
      "M_2 = ns.M_2\n",
      "# 3. Compute A_2 over A_2^*\n",
      "a2_a2c = fl.A_Astar(M_2)\n",
      "A_c2 = A_shock * A_c / a2_a2c\n",
      "\n",
      "M_post = np.empty_like(x[i_s:])\n",
      "for i in range(len(x[i_s:])):\n",
      "    M_post[i] = isentropic.mach_from_area_ratio(fl, A(x[i_s + i]) / A_c2)[0]\n",
      "\n",
      "print(M_post)\n",
      "p_ratio[i_s:] = fl.p_p0(M_post)"
     ],
     "language": "python",
     "metadata": {},
     "outputs": [
      {
       "output_type": "stream",
       "stream": "stdout",
       "text": [
        "[ 0.53107106  0.52502108  0.51928679  0.51385348  0.50870794  0.50383834\n",
        "  0.49923405  0.49488553  0.49078421  0.48692242  0.48329332  0.47989083\n",
        "  0.47670958  0.47374485  0.47099257  0.46844926  0.46611202  0.46397849\n",
        "  0.46204687  0.4603159   0.45878484  0.45745348  0.45632216  0.45539176\n",
        "  0.45466371  0.45414004  0.45382338  0.45371699]\n"
       ]
      }
     ],
     "prompt_number": 15
    },
    {
     "cell_type": "code",
     "collapsed": false,
     "input": [
      "# Mach number distribution\n",
      "M = np.zeros_like(x)\n",
      "M[:i_s] = M_isen_sup[:i_s]\n",
      "M[i_s:] = M_post"
     ],
     "language": "python",
     "metadata": {},
     "outputs": [],
     "prompt_number": 16
    },
    {
     "cell_type": "code",
     "collapsed": false,
     "input": [
      "# Plot whole solution\n",
      "\n",
      "fig = plt.figure(figsize=(6, 8))\n",
      "\n",
      "#ax_nozzle = fig.add_subplot(211)\n",
      "#ax_nozzle.fill_between(x, radius, -radius, facecolor=\"#cccccc\")\n",
      "\n",
      "ax_press = fig.add_subplot(211)\n",
      "ax_press.plot(x[i_c:], p_isen_sub[i_c:], 'k--', x[i_s:], p_isen_sup[i_s:], 'k--')\n",
      "ax_press.annotate(s=\"Subsonic isentropic\\nsolution\", xy=(2.0, 0.9), xytext=(1.5, 0.7), arrowprops=dict(arrowstyle = \"->\"))\n",
      "ax_press.annotate(s=\"Supersonic isentropic\\nsolution\", xy=(1.5, 0.2), xytext=(0.1, 0.1), arrowprops=dict(arrowstyle = \"->\"))\n",
      "ax_press.set_ylabel(r\"$p / p_0$\")\n",
      "ax_press.plot(x, p_ratio)\n",
      "ax_press.set_title(\"Pressure\")\n",
      "\n",
      "ax_mach = fig.add_subplot(212)\n",
      "ax_mach.plot(x, M)\n",
      "ax_mach.set_ylabel(\"$M$\")\n",
      "ax_mach.set_title(\"Mach number\")\n",
      "\n",
      "fig.suptitle(\"Exercise 18\")\n",
      "fig.savefig(\"exercise_18.png\", dpi=100)"
     ],
     "language": "python",
     "metadata": {},
     "outputs": [
      {
       "output_type": "display_data",
       "png": "[encoded data removed]"
      }
     ],
     "prompt_number": 17
    },
    {
     "cell_type": "code",
     "collapsed": false,
     "input": [
      "import matplotlib.cm as cm\n",
      "\n",
      "xx, MM = np.meshgrid(x, M)\n",
      "fig = plt.figure()\n",
      "ax = fig.add_subplot(111)\n",
      "im = ax.imshow(MM.transpose(), extent=(0, 3, -1, 1), cmap=cm.RdYlBu_r)\n",
      "cb = fig.colorbar(im)\n",
      "cb.set_label(\"Mach number\")\n",
      "\n",
      "import matplotlib.patches as patches\n",
      "\n",
      "patch = patches.PathPatch(nozzle.get_paths()[0], fc='none', lw=2)\n",
      "ax.add_patch(patch)\n",
      "im.set_clip_path(patch)"
     ],
     "language": "python",
     "metadata": {},
     "outputs": [
      {
       "output_type": "display_data",
       "png": "[encoded data removed]"
      }
     ],
     "prompt_number": 18
    },
    {
     "cell_type": "markdown",
     "metadata": {},
     "source": [
      "This is the Mach number-area ratio relation."
     ]
    },
    {
     "cell_type": "code",
     "collapsed": false,
     "input": [
      "M_range = np.linspace(0, 4, 201)\n",
      "plt.plot(M_range, fl.A_Astar(M_range))\n",
      "plt.plot(x, A_e / A_c * np.ones_like(x))\n",
      "plt.xlim(0, 3)\n",
      "plt.ylim(0, 4)\n",
      "plt.title(\"Mach number and area ratio\")\n",
      "plt.xlabel(\"M\")\n",
      "plt.ylabel(\"A / A*\")"
     ],
     "language": "python",
     "metadata": {},
     "outputs": [
      {
       "output_type": "stream",
       "stream": "stderr",
       "text": [
        "/home/juanlu/.local/lib/python3.3/site-packages/skaero/gasdynamics/isentropic.py:150: RuntimeWarning: divide by zero encountered in true_divide\n",
        "  ((self.gamma + 1) / (2 * (self.gamma - 1))) / M\n"
       ]
      },
      {
       "output_type": "pyout",
       "prompt_number": 19,
       "text": [
        "<matplotlib.text.Text at 0x7fe7c3cd85d0>"
       ]
      },
      {
       "output_type": "display_data",
       "png": "[encoded data removed]"
      }
     ],
     "prompt_number": 19
    },
    {
     "cell_type": "code",
     "collapsed": false,
     "input": [],
     "language": "python",
     "metadata": {},
     "outputs": [],
     "prompt_number": 19
    }
   ],
   "metadata": {}
  }
 ]
}